{
 "cells": [
  {
   "attachments": {},
   "cell_type": "markdown",
   "metadata": {},
   "source": [
    "# PyRawS - Coregistration profiling notebook"
   ]
  },
  {
   "attachments": {},
   "cell_type": "markdown",
   "metadata": {},
   "source": [
    "### 1) - Import"
   ]
  },
  {
   "cell_type": "code",
   "execution_count": null,
   "metadata": {},
   "outputs": [],
   "source": [
    "import matplotlib.pyplot as plt\n",
    "from glob import glob\n",
    "import os\n",
    "import pandas as pd\n",
    "import numpy as np\n",
    "from coregistration_study_notebooks_utils import extract_test_time\n",
    "%load_ext autoreload\n",
    "%autoreload 2"
   ]
  },
  {
   "attachments": {},
   "cell_type": "markdown",
   "metadata": {},
   "source": [
    "### 2) - Collecting test files"
   ]
  },
  {
   "cell_type": "markdown",
   "metadata": {},
   "source": [
    "Select tests results between \"desktop\" and \"jetson\"."
   ]
  },
  {
   "cell_type": "code",
   "execution_count": null,
   "metadata": {},
   "outputs": [],
   "source": [
    "test_type=\"desktop\""
   ]
  },
  {
   "cell_type": "markdown",
   "metadata": {},
   "source": [
    "Parsing tests..."
   ]
  },
  {
   "cell_type": "code",
   "execution_count": null,
   "metadata": {},
   "outputs": [],
   "source": [
    "test_files=sorted(glob(os.path.join("coregistration_profiling_results", test_type, "*")))"
   ]
  },
  {
   "attachments": {},
   "cell_type": "markdown",
   "metadata": {},
   "source": [
    "### 3) - Generate results table"
   ]
  },
  {
   "cell_type": "code",
   "execution_count": null,
   "metadata": {},
   "outputs": [],
   "source": [
    "test_results=[]\n",
    "test_ids=[]\n",
    "for test in test_files:\n",
    "    print(test)\n",
    "    test_id, test_result=extract_test_time(test)\n",
    "    test_results.append(test_result)\n",
    "    test_ids.append(str(test_result[\"n_images\"])+\"_\"+str(test_result[\"coreg_type\"])+\"_\"+test_result[\"device\"]+\"_iteration_\"+test_id)\n",
    "\n",
    "test_id_result_dict=dict(zip(test_ids, test_results))\n",
    "df=pd.DataFrame.from_dict(test_id_result_dict, orient=\"index\")\n",
    "df"
   ]
  },
  {
   "cell_type": "markdown",
   "metadata": {},
   "source": [
    "Averaging results (excluding warm-up cycles)..."
   ]
  },
  {
   "cell_type": "code",
   "execution_count": null,
   "metadata": {},
   "outputs": [],
   "source": [
    "df_2_super_result={\"cpu\" : df.loc[[\"2_super_cpu_iteration_1\",\"2_super_cpu_iteration_2\",\"2_super_cpu_iteration_3\"]][\"result [s]\"].sum()/3,\"gpu\" : df.loc[[\"2_super_gpu_iteration_1\",\"2_super_gpu_iteration_2\",\"2_super_gpu_iteration_3\"]][\"result [s]\"].sum()/3}\n",
    "df_4_super_result={\"cpu\" : df.loc[[\"4_super_cpu_iteration_1\",\"4_super_cpu_iteration_2\",\"4_super_cpu_iteration_3\"]][\"result [s]\"].sum()/3, \"gpu\" : df.loc[[\"4_super_gpu_iteration_1\",\"4_super_gpu_iteration_2\",\"4_super_gpu_iteration_3\"]][\"result [s]\"].sum()/3}\n",
    "df_8_super_result={\"cpu\" : df.loc[[\"8_super_cpu_iteration_1\",\"8_super_cpu_iteration_2\",\"8_super_cpu_iteration_3\"]][\"result [s]\"].sum()/3, \"gpu\" : df.loc[[\"8_super_gpu_iteration_1\",\"8_super_gpu_iteration_2\",\"8_super_gpu_iteration_3\"]][\"result [s]\"].sum()/3}\n",
    "df_16_super_result={\"cpu\" : df.loc[[\"16_super_cpu_iteration_1\",\"16_super_cpu_iteration_2\",\"16_super_cpu_iteration_3\"]][\"result [s]\"].sum()/3, \"gpu\" : df.loc[[\"16_super_gpu_iteration_1\",\"16_super_gpu_iteration_2\",\"16_super_gpu_iteration_3\"]][\"result [s]\"].sum()/3}\n",
    "df_2_coarse_result={\"cpu\" : df.loc[[\"2_coarse_cpu_iteration_1\",\"2_coarse_cpu_iteration_2\",\"2_coarse_cpu_iteration_3\"]][\"result [s]\"].sum()/3,\"gpu\" : df.loc[[\"2_coarse_gpu_iteration_1\",\"2_coarse_gpu_iteration_2\",\"2_coarse_gpu_iteration_3\"]][\"result [s]\"].sum()/3}\n",
    "df_4_coarse_result={\"cpu\" : df.loc[[\"4_coarse_cpu_iteration_1\",\"4_coarse_cpu_iteration_2\",\"4_coarse_cpu_iteration_3\"]][\"result [s]\"].sum()/3, \"gpu\" : df.loc[[\"4_coarse_gpu_iteration_1\",\"4_coarse_gpu_iteration_2\",\"4_coarse_gpu_iteration_3\"]][\"result [s]\"].sum()/3}\n",
    "df_8_coarse_result={\"cpu\" : df.loc[[\"8_coarse_cpu_iteration_1\",\"8_coarse_cpu_iteration_2\",\"8_coarse_cpu_iteration_3\"]][\"result [s]\"].sum()/3, \"gpu\" : df.loc[[\"8_coarse_gpu_iteration_1\",\"8_coarse_gpu_iteration_2\",\"8_coarse_gpu_iteration_3\"]][\"result [s]\"].sum()/3}\n",
    "df_16_coarse_result={\"cpu\" : df.loc[[\"16_coarse_cpu_iteration_1\",\"16_coarse_cpu_iteration_2\",\"16_coarse_cpu_iteration_3\"]][\"result [s]\"].sum()/3, \"gpu\" : df.loc[[\"16_coarse_gpu_iteration_1\",\"16_coarse_gpu_iteration_2\",\"16_coarse_gpu_iteration_3\"]][\"result [s]\"].sum()/3}"
   ]
  },
  {
   "attachments": {},
   "cell_type": "markdown",
   "metadata": {},
   "source": [
    "### 4) - Generate plots"
   ]
  },
  {
   "cell_type": "markdown",
   "metadata": {},
   "source": [
    "Generate CPU plots."
   ]
  },
  {
   "cell_type": "code",
   "execution_count": null,
   "metadata": {},
   "outputs": [],
   "source": [
    "n_images_float=np.arange(1,17,0.1)\n",
    "n_images=np.array([2,4,8,16])\n",
    "n_images_fit=np.array([2,8,16])\n",
    "runtime_super=np.array([df_2_super_result[\"cpu\"], df_4_super_result[\"cpu\"], df_8_super_result[\"cpu\"], df_16_super_result[\"cpu\"]])\n",
    "runtime_coarse=np.array([df_2_coarse_result[\"cpu\"], df_4_coarse_result[\"cpu\"], df_8_coarse_result[\"cpu\"], df_16_coarse_result[\"cpu\"]])\n",
    "runtime_coarse_fit=np.array([df_2_coarse_result[\"cpu\"], df_8_coarse_result[\"cpu\"], df_16_coarse_result[\"cpu\"]])\n",
    "runtime_super_fit=np.array([df_2_super_result[\"cpu\"], df_8_super_result[\"cpu\"], df_16_super_result[\"cpu\"]])\n",
    "coeff_coarse=np.linalg.lstsq(np.vstack([ n_images_fit, np.ones(len(n_images_fit))]).T, runtime_coarse_fit, rcond=None)[0]\n",
    "coeff_super=np.linalg.lstsq(np.vstack([ n_images_fit, np.ones(len(n_images_fit))]).T, runtime_super_fit, rcond=None)[0]\n",
    "runtime_coarse_float=coeff_coarse[0] * n_images_float + coeff_coarse[1] \n",
    "runtime_super_float=coeff_super[0] * n_images_float + coeff_super[1] \n",
    "fig, ax=plt.subplots(1,2)\n",
    "ax[0].plot(n_images_float, runtime_coarse_float)\n",
    "ax[0].stem(n_images, runtime_coarse)\n",
    "ax[0].set_xlabel(\"n_images\")\n",
    "ax[0].set_ylabel(\"runtime [s]\")\n",
    "ax[1].plot(n_images_float, runtime_super_float)\n",
    "ax[1].stem(n_images, runtime_super)\n",
    "ax[1].set_xlabel(\"n_images\")\n",
    "ax[0].set_title(\"Runtime coarse (CPU)\")\n",
    "ax[1].set_title(\"Runtime SuperGlue (CPU)\")"
   ]
  },
  {
   "cell_type": "markdown",
   "metadata": {},
   "source": [
    "Generate GPU plots."
   ]
  },
  {
   "cell_type": "code",
   "execution_count": null,
   "metadata": {},
   "outputs": [],
   "source": [
    "n_images_float=np.arange(1,17,0.1)\n",
    "n_images=np.array([2,4,8,16])\n",
    "n_images_fit=np.array([2,8,16])\n",
    "runtime_super_gpu=np.array([df_2_super_result[\"gpu\"], df_4_super_result[\"gpu\"], df_8_super_result[\"gpu\"], df_16_super_result[\"gpu\"]])\n",
    "runtime_coarse_gpu=np.array([df_2_coarse_result[\"gpu\"], df_4_coarse_result[\"gpu\"], df_8_coarse_result[\"gpu\"], df_16_coarse_result[\"gpu\"]])\n",
    "runtime_coarse_fit=np.array([df_2_coarse_result[\"gpu\"], df_8_coarse_result[\"gpu\"], df_16_coarse_result[\"gpu\"]])\n",
    "runtime_super_fit=np.array([df_2_super_result[\"gpu\"], df_8_super_result[\"gpu\"], df_16_super_result[\"gpu\"]])\n",
    "coeff_coarse_gpu=np.linalg.lstsq(np.vstack([ n_images_fit, np.ones(len(n_images_fit))]).T, runtime_coarse_fit, rcond=None)[0]\n",
    "coeff_super_gpu=np.linalg.lstsq(np.vstack([ n_images_fit, np.ones(len(n_images_fit))]).T, runtime_super_fit, rcond=None)[0]\n",
    "runtime_coarse_float_gpu=coeff_coarse_gpu[0] * n_images_float + coeff_coarse_gpu[1] \n",
    "runtime_super_float_gpu=coeff_super_gpu[0] * n_images_float + coeff_super_gpu[1] \n",
    "fig, ax=plt.subplots(1,2)\n",
    "ax[0].plot(n_images_float, runtime_coarse_float_gpu)\n",
    "ax[0].stem(n_images, runtime_coarse_gpu)\n",
    "ax[0].set_xlabel(\"n_images\")\n",
    "ax[0].set_ylabel(\"runtime [s]\")\n",
    "ax[1].plot(n_images_float, runtime_super_float_gpu)\n",
    "ax[1].stem(n_images, runtime_super_gpu)\n",
    "ax[1].set_xlabel(\"n_images\")\n",
    "ax[0].set_title(\"Runtime coarse (GPU)\")\n",
    "ax[1].set_title(\"Runtime SuperGlue (GPU)\")\n"
   ]
  },
  {
   "cell_type": "markdown",
   "metadata": {},
   "source": [
    "Plotting results in a single image."
   ]
  },
  {
   "cell_type": "code",
   "execution_count": null,
   "metadata": {},
   "outputs": [],
   "source": [
    "fig, ax=plt.subplots(2,2)\n",
    "ax[0,0].plot(n_images_float, runtime_coarse_float)\n",
    "ax[0,0].scatter(n_images, runtime_coarse)\n",
    "ax[0,0].set_xlabel(\"n_images\")\n",
    "ax[0,0].set_ylabel(\"runtime [s]\")\n",
    "ax[0,1].plot(n_images_float, runtime_super_float)\n",
    "ax[0,1].scatter(n_images, runtime_super)\n",
    "ax[0,1].set_xlabel(\"n_images\")\n",
    "ax[0,0].set_title(\"Runtime coarse (CPU)\")\n",
    "ax[0,1].set_title(\"Runtime SuperGlue (CPU)\")\n",
    "ax[1,0].plot(n_images_float, runtime_coarse_float_gpu)\n",
    "ax[1,0].scatter(n_images, runtime_coarse_gpu)\n",
    "ax[1,0].set_xlabel(\"n_images\")\n",
    "ax[1,0].set_ylabel(\"runtime [s]\")\n",
    "ax[1,1].plot(n_images_float, runtime_super_float_gpu)\n",
    "ax[1,1].scatter(n_images, runtime_super_gpu)\n",
    "ax[1,1].set_xlabel(\"n_images\")\n",
    "ax[1,0].set_title(\"Runtime coarse (GPU)\")\n",
    "ax[1,1].set_title(\"Runtime SuperGlue (GPU)\")\n",
    "fig.tight_layout()\n",
    "plt.savefig(\"profiling_results.pdf\")\n"
   ]
  },
  {
   "cell_type": "code",
   "execution_count": null,
   "metadata": {},
   "outputs": [],
   "source": []
  }
 ],
 "metadata": {
  "kernelspec": {
   "display_name": "pyraws",
   "language": "python",
   "name": "python3"
  },
  "language_info": {
   "codemirror_mode": {
    "name": "ipython",
    "version": 3
   },
   "file_extension": ".py",
   "mimetype": "text/x-python",
   "name": "python",
   "nbconvert_exporter": "python",
   "pygments_lexer": "ipython3",
   "version": "3.9.15"
  },
  "orig_nbformat": 4,
  "vscode": {
   "interpreter": {
    "hash": "5708a2c12c7fa6400f05c91723da661e66d32a6c324d4511f905bfe809bde8c3"
   }
  }
 },
 "nbformat": 4,
 "nbformat_minor": 2
}
