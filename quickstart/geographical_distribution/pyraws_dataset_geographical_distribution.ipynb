{
 "cells": [
  {
   "cell_type": "markdown",
   "metadata": {},
   "source": [
    "# PYRAWS - Create a geographic map of the dataset"
   ]
  },
  {
   "cell_type": "markdown",
   "metadata": {},
   "source": [
    "This notebook is to create a geographic map of a target dataset. "
   ]
  },
  {
   "cell_type": "markdown",
   "metadata": {},
   "source": [
    "# 1) Imports, paths and variables"
   ]
  },
  {
   "cell_type": "markdown",
   "metadata": {},
   "source": [
    "Limit CUDA visible devices."
   ]
  },
  {
   "cell_type": "code",
   "execution_count": null,
   "metadata": {
    "notebookRunGroups": {
     "groupValue": "1"
    }
   },
   "outputs": [],
   "source": [
    "import os\n",
    "os.environ[\"CUDA_VISIBLE_DEVICES\"] = \"5\""
   ]
  },
  {
   "cell_type": "markdown",
   "metadata": {},
   "source": [
    "Autoreload."
   ]
  },
  {
   "cell_type": "code",
   "execution_count": null,
   "metadata": {
    "notebookRunGroups": {
     "groupValue": "1"
    }
   },
   "outputs": [],
   "source": [
    "%load_ext autoreload\n",
    "%autoreload 2"
   ]
  },
  {
   "cell_type": "markdown",
   "metadata": {},
   "source": [
    "Imports."
   ]
  },
  {
   "cell_type": "code",
   "execution_count": null,
   "metadata": {
    "notebookRunGroups": {
     "groupValue": "1"
    }
   },
   "outputs": [],
   "source": [
    "import sys\n",
    "sys.path.insert(1, os.path.join(\"..\", \"..\"))\n",
    "\n",
    "from geopy.geocoders import Nominatim\n",
    "import geopandas\n",
    "from geopandas import GeoSeries\n",
    "from glob import glob\n",
    "import matplotlib.pyplot as plt\n",
    "import matplotlib.patches as patches\n",
    "import numpy as np\n",
    "import pandas as pd\n",
    "from pyraws.raw.raw_event import Raw_event\n",
    "from pyraws.utils.database_utils import get_events_list\n",
    "from pyraws.utils.database_utils import DATABASE_FILE_DICTIONARY, get_cfg_file_dict\n",
    "from shapely.geometry import Point\n",
    "from termcolor import colored\n",
    "import torch\n",
    "from tqdm import tqdm"
   ]
  },
  {
   "cell_type": "markdown",
   "metadata": {},
   "source": [
    "This import is to remove odd errors on `libiomp5md.dll`. If you do not have them, you can skip it"
   ]
  },
  {
   "cell_type": "code",
   "execution_count": null,
   "metadata": {
    "notebookRunGroups": {
     "groupValue": "1"
    }
   },
   "outputs": [],
   "source": [
    "os.environ[\"KMP_DUPLICATE_LIB_OK\"] = \"True\""
   ]
  },
  {
   "cell_type": "markdown",
   "metadata": {},
   "source": [
    "Set torch device. Use \"CUDA\" as default if available."
   ]
  },
  {
   "cell_type": "code",
   "execution_count": null,
   "metadata": {
    "notebookRunGroups": {
     "groupValue": "1"
    }
   },
   "outputs": [],
   "source": [
    "if torch.cuda.is_available():\n",
    "    device = torch.device(\"cuda\")\n",
    "else:\n",
    "    device = torch.device(\"cpu\")"
   ]
  },
  {
   "cell_type": "markdown",
   "metadata": {},
   "source": [
    "Set size of figure plots."
   ]
  },
  {
   "cell_type": "code",
   "execution_count": null,
   "metadata": {
    "notebookRunGroups": {
     "groupValue": "1"
    }
   },
   "outputs": [],
   "source": [
    "plt.rcParams[\"figure.figsize\"] = [10, 10]"
   ]
  },
  {
   "cell_type": "markdown",
   "metadata": {},
   "source": [
    "Select target database and target bands."
   ]
  },
  {
   "cell_type": "code",
   "execution_count": null,
   "metadata": {},
   "outputs": [],
   "source": [
    "dataset=\"THRAWS\" # target dataset\n",
    "requested_bands = [\"B8A\"] #Specify one band to make the loading quicker. The band used is irrelevant.\n",
    "raw_dir=os.path.join(get_cfg_file_dict()[\"data\"], dataset, \"raw\") # Raw dir in the target database"
   ]
  },
  {
   "cell_type": "markdown",
   "metadata": {},
   "source": [
    "Select color maps for the events. You should have a color for each class, excluding \"not-events\"."
   ]
  },
  {
   "cell_type": "code",
   "execution_count": null,
   "metadata": {},
   "outputs": [],
   "source": [
    "colors=[\"red\", \"orange\", \"yellow\", \"green\", \"blue\"] #color list"
   ]
  },
  {
   "cell_type": "markdown",
   "metadata": {},
   "source": [
    "# 2) - Loading database and granules"
   ]
  },
  {
   "cell_type": "markdown",
   "metadata": {
    "notebookRunGroups": {
     "groupValue": "1"
    }
   },
   "source": [
    "Loading database of the target dataset."
   ]
  },
  {
   "cell_type": "code",
   "execution_count": null,
   "metadata": {},
   "outputs": [],
   "source": [
    "database=pd.read_csv(os.path.join(\"..\", \"..\",\"pyraws\", \"database\", DATABASE_FILE_DICTIONARY[dataset]))\n",
    "\n",
    "database_events=get_events_list()\n",
    "events_legend=np.unique([str(x) for x in database[\"class\"]])\n",
    "events_legend=list(events_legend)\n",
    "\n",
    "color_event_class_dict=dict(zip(events_legend, colors[:len(colors)])) # color - event_class dictionary"
   ]
  },
  {
   "cell_type": "code",
   "execution_count": null,
   "metadata": {
    "scrolled": true
   },
   "outputs": [],
   "source": [
    "if torch.cuda.is_available():\n",
    "    device = torch.device(\"cuda\")\n",
    "else:\n",
    "    device = torch.device(\"cpu\")\n",
    "\n",
    "# events_list = get_events_list(\"THRAWS\")\n",
    "database_files = sorted(glob(os.path.join(raw_dir, \"*\")))\n",
    "\n",
    "# events lift\n",
    "events_list = [file.split(os.sep)[-1] for file in database_files]\n",
    "\n",
    "granule_coordinates_list=[]\n",
    "\n",
    "k=0\n",
    "\n",
    "for event, file in tqdm(zip(events_list, database_files), \"Accessing event...\"):\n",
    "    print(\"Processing event: \", colored(event, \"blue\") + \".\")\n",
    "    try:\n",
    "        raw_event = Raw_event(device=device)\n",
    "        raw_event.from_path(file, requested_bands, verbose=False)\n",
    "    except:  # noqa E722\n",
    "        print(\"Skipping event: \", colored(event, \"red\") + \".\")\n",
    "        continue\n",
    "\n",
    "    if raw_event.is_void():\n",
    "        print(\"Skipping event: \", colored(event, \"red\") + \".\")\n",
    "        continue\n",
    "\n",
    "    granules_list = list(range(len(raw_event.get_granules_info().keys())))\n",
    "\n",
    "    for granule in granules_list:\n",
    "        raw_granule_n = raw_event.get_granule(granule)\n",
    "        granule_coordinates=np.array(raw_granule_n.get_granule_info()[-2])\n",
    "        granule_baricenter=granule_coordinates[0] + (granule_coordinates[2] - granule_coordinates[0])/2\n",
    "        \n",
    "        if event in database_events:\n",
    "            useful_granules=[int(x) for x in str(database[database[\"ID_event\"] == event][\"Raw_useful_granules\"]).split(\"[\")[1].split(\"]\")[0].split(\",\")]\n",
    "            if granule in useful_granules:\n",
    "                event_class=[str(x) for x in database[database[\"ID_event\"] == event][\"class\"]][0]\n",
    "                if event_class != \"not_event\":\n",
    "                    granule_coordinates_list.append([granule_baricenter, event_class])\n",
    "\n",
    "print(\"processing \" + colored(\"finished\", \"green\") + \".\")"
   ]
  },
  {
   "cell_type": "markdown",
   "metadata": {},
   "source": [
    "# 3) - Creating geographical distribution map"
   ]
  },
  {
   "cell_type": "code",
   "execution_count": null,
   "metadata": {
    "scrolled": true
   },
   "outputs": [],
   "source": [
    "world = geopandas.read_file(geopandas.datasets.get_path(\"naturalearth_lowres\"))\n",
    "world = world.to_crs(\"EPSG:4326\")\n",
    "geolocator = Nominatim(user_agent=\"google\")\n",
    "point_color_list=[]\n",
    "for granule_object in granule_coordinates_list:\n",
    "    granule_baricenter=granule_object[0]\n",
    "    coordinates = [granule_baricenter[1], granule_baricenter[0]]\n",
    "    point = GeoSeries([Point(coordinates)])\n",
    "    point = point.set_crs(\"EPSG:4326\")\n",
    "    point_color_list.append([point, color_event_class_dict[granule_object[1]]])\n",
    "ax = world.plot()\n",
    "\n",
    "for point, color in point_color_list:\n",
    "    point.plot(facecolor=color, edgecolor=color, ax=ax)\n",
    "ax.legend(list(color_event_class_dict.keys())[:-1])\n",
    "leg = ax.get_legend()\n",
    "\n",
    "# Fix colors in the legend\n",
    "for n in range(len(events_legend[:-1])):\n",
    "    leg.legendHandles[n].set_color(list(color_event_class_dict.values())[n])\n",
    "plt.setp(plt.gcf().get_axes(), xticks=[], yticks=[])"
   ]
  },
  {
   "cell_type": "markdown",
   "metadata": {},
   "source": [
    "# 4) - Save geographical distribution map to a figure"
   ]
  },
  {
   "cell_type": "code",
   "execution_count": null,
   "metadata": {},
   "outputs": [],
   "source": [
    "fig = ax.get_figure()\n",
    "fig.savefig(dataset + \"_geo_map.png\", dpi=500, bbox_inches='tight')"
   ]
  },
  {
   "cell_type": "code",
   "execution_count": null,
   "metadata": {},
   "outputs": [],
   "source": []
  }
 ],
 "metadata": {
  "kernelspec": {
   "display_name": "Python 3 (ipykernel)",
   "language": "python",
   "name": "python3"
  },
  "language_info": {
   "codemirror_mode": {
    "name": "ipython",
    "version": 3
   },
   "file_extension": ".py",
   "mimetype": "text/x-python",
   "name": "python",
   "nbconvert_exporter": "python",
   "pygments_lexer": "ipython3",
   "version": "3.9.16"
  },
  "vscode": {
   "interpreter": {
    "hash": "e44427996730295f72801af1daa8325e72b53a1ddad2a1fad7e798c530cb13b3"
   }
  }
 },
 "nbformat": 4,
 "nbformat_minor": 4
}
