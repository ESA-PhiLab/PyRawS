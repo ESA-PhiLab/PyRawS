{
 "cells": [
  {
   "cell_type": "code",
   "execution_count": null,
   "metadata": {},
   "outputs": [],
   "source": [
    "import sys\n",
    "import os\n",
    "\n",
    "sys.path.insert(1, os.path.join(\"..\", \"..\"))\n",
    "from pyraws.l0.l0_event import L0_event\n",
    "from pyraws.utils.l1_utils import (\n",
    "    read_L1C_image_from_tif,\n",
    "    get_event_bounding_box,\n",
    "    get_l1C_image_default_path,\n",
    ")\n",
    "import matplotlib.pyplot as plt\n",
    "from l1c_reconstruction_utils import rotate_l1c_tif\n",
    "\n",
    "%load_ext autoreload\n",
    "%autoreload 2"
   ]
  },
  {
   "cell_type": "code",
   "execution_count": null,
   "metadata": {},
   "outputs": [],
   "source": [
    "downsampling = True\n",
    "l1c_tif, coords_dict, expected_class = read_L1C_image_from_tif(\"Etna_00\", \"2\")\n",
    "l0_event = L0_event()\n",
    "l0_event.from_database(\"Etna_00\", [\"B8A\", \"B11\", \"B12\"], verbose=False)\n",
    "l0_granule = l0_event.coarse_coregistration(\n",
    "    [2], crop_empty_pixels=True, use_complementary_granules=True\n",
    ")"
   ]
  },
  {
   "cell_type": "code",
   "execution_count": null,
   "metadata": {},
   "outputs": [],
   "source": [
    "fig, ax = plt.subplots(1, 3, figsize=(10, 10))\n",
    "\n",
    "ax[0].imshow(l1c_tif)\n",
    "l0_granule.show_bands_superimposition(ax=ax[1])\n",
    "l1c_rotated = rotate_l1c_tif(l1c_tif)\n",
    "ax[2].imshow(l1c_rotated)"
   ]
  },
  {
   "cell_type": "markdown",
   "metadata": {},
   "source": []
  }
 ],
 "metadata": {
  "kernelspec": {
   "display_name": "pyraws",
   "language": "python",
   "name": "python3"
  },
  "language_info": {
   "codemirror_mode": {
    "name": "ipython",
    "version": 3
   },
   "file_extension": ".py",
   "mimetype": "text/x-python",
   "name": "python",
   "nbconvert_exporter": "python",
   "pygments_lexer": "ipython3",
   "version": "3.9.15"
  },
  "orig_nbformat": 4,
  "vscode": {
   "interpreter": {
    "hash": "5708a2c12c7fa6400f05c91723da661e66d32a6c324d4511f905bfe809bde8c3"
   }
  }
 },
 "nbformat": 4,
 "nbformat_minor": 2
}
