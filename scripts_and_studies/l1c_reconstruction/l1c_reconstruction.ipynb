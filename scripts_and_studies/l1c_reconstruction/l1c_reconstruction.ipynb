{
 "cells": [
  {
   "cell_type": "markdown",
   "metadata": {},
   "source": [
    "# L1C reconstruction "
   ]
  },
  {
   "cell_type": "markdown",
   "metadata": {},
   "source": [
    "## 1) - Imports"
   ]
  },
  {
   "cell_type": "code",
   "execution_count": null,
   "metadata": {},
   "outputs": [],
   "source": [
    "import sys\n",
    "import os\n",
    "\n",
    "sys.path.insert(1, os.path.join(\"..\", \"..\"))\n",
    "from pyraws.raw.raw_event import Raw_event\n",
    "from pyraws.utils.l1_utils import (\n",
    "    read_L1C_image_from_tif,\n",
    "    get_event_bounding_box,\n",
    "    get_l1C_image_default_path,\n",
    ")\n",
    "from pyraws.l1.l1_event import L1C_event\n",
    "import matplotlib.pyplot as plt\n",
    "from l1c_reconstruction_utils import rotate_l1c_tif\n",
    "\n",
    "%load_ext autoreload\n",
    "%autoreload 2"
   ]
  },
  {
   "cell_type": "markdown",
   "metadata": {},
   "source": [
    "## 2) - Open data"
   ]
  },
  {
   "cell_type": "code",
   "execution_count": null,
   "metadata": {},
   "outputs": [],
   "source": [
    "raw_event = Raw_event()\n",
    "requested_bands=[\"B8A\", \"B11\", \"B12\"]\n",
    "raw_event.from_database(\"Etna_00\", requested_bands, verbose=False)\n",
    "raw_granule_0=raw_event.get_granule(2)\n",
    "\n",
    "try:\n",
    "    l1c_tif, coords_dict, expected_class = read_L1C_image_from_tif(\"Etna_00\", \"2\")\n",
    "except:\n",
    "    bands_coordinates_dict=raw_granule_0.get_bands_coordinates()\n",
    "    l1c_event=L1C_event()\n",
    "    l1c_event.from_database(\"Etna_00\", requested_bands)\n",
    "    ending=\"2\"\n",
    "    output_cropped_tile_path=l1c_event.crop_tile(bands_coordinates_dict[requested_bands[0]], None,out_name_ending=ending, lat_lon_format=True)\n",
    "    "
   ]
  },
  {
   "cell_type": "markdown",
   "metadata": {},
   "source": [
    "## 3) - Rotate L1C"
   ]
  },
  {
   "cell_type": "code",
   "execution_count": null,
   "metadata": {},
   "outputs": [],
   "source": [
    "downsampling = True\n",
    "\n",
    "\n",
    "\n",
    "raw_event = raw_event.coarse_coregistration(\n",
    "    [2], crop_empty_pixels=True, use_complementary_granules=True\n",
    ")"
   ]
  },
  {
   "cell_type": "code",
   "execution_count": null,
   "metadata": {},
   "outputs": [],
   "source": [
    "fig, ax = plt.subplots(1, 3, figsize=(10, 10))\n",
    "\n",
    "ax[0].imshow(l1c_tif)\n",
    "l0_granule.show_bands_superimposition(ax=ax[1])\n",
    "l1c_rotated = rotate_l1c_tif(l1c_tif)\n",
    "ax[2].imshow(l1c_rotated)"
   ]
  },
  {
   "cell_type": "markdown",
   "metadata": {},
   "source": []
  }
 ],
 "metadata": {
  "kernelspec": {
   "display_name": "Python 3 (ipykernel)",
   "language": "python",
   "name": "python3"
  },
  "language_info": {
   "codemirror_mode": {
    "name": "ipython",
    "version": 3
   },
   "file_extension": ".py",
   "mimetype": "text/x-python",
   "name": "python",
   "nbconvert_exporter": "python",
   "pygments_lexer": "ipython3",
   "version": "3.9.16"
  },
  "vscode": {
   "interpreter": {
    "hash": "5708a2c12c7fa6400f05c91723da661e66d32a6c324d4511f905bfe809bde8c3"
   }
  }
 },
 "nbformat": 4,
 "nbformat_minor": 2
}
