{
 "cells": [
  {
   "attachments": {},
   "cell_type": "markdown",
   "metadata": {},
   "source": [
    "# PYRAWS - DB API demonstration."
   ]
  },
  {
   "attachments": {},
   "cell_type": "markdown",
   "metadata": {},
   "source": [
    "This notebook is to show and demonstrate the use of Application Program Interface (API) to create a Raw-L1 dataset for API integration with the `Sentinel-2 Raw data`, corresponding to a decompressed version of [Sentinel-2 L0 data](https://sentinel.esa.int/documents/247904/685211/sentinel-2-products-specification-document) with additional metada. The notebook has been developed in the framework of the `PYRAWS` project. <br> The DB API are demonstrated on the `Temperature Hotspots RAW Sentinel-2 (THRAWS)` dataset."
   ]
  },
  {
   "cell_type": "markdown",
   "metadata": {},
   "source": [
    "# 1) Imports, paths and variables"
   ]
  },
  {
   "cell_type": "code",
   "execution_count": null,
   "metadata": {
    "notebookRunGroups": {
     "groupValue": "1"
    }
   },
   "outputs": [],
   "source": [
    "import os\n",
    "os.environ['CUDA_VISIBLE_DEVICES']='5'"
   ]
  },
  {
   "cell_type": "markdown",
   "metadata": {},
   "source": [
    "Autoreload."
   ]
  },
  {
   "cell_type": "code",
   "execution_count": null,
   "metadata": {
    "notebookRunGroups": {
     "groupValue": "1"
    }
   },
   "outputs": [],
   "source": [
    "%load_ext autoreload\n",
    "%autoreload 2"
   ]
  },
  {
   "cell_type": "markdown",
   "metadata": {},
   "source": [
    "Imports."
   ]
  },
  {
   "cell_type": "code",
   "execution_count": null,
   "metadata": {},
   "outputs": [],
   "source": [
    "from pyraws.utils.database_utils import DatabaseHandler\n",
    "from pathlib import Path\n",
    "import pandas as pd\n",
    "\n",
    "try:\n",
    "    from pyraws.sys_cfg import PYRAWS_HOME_PATH, DATA_PATH\n",
    "except:\n",
    "    raise ValueError(\"sys_cfg.py not found. Please, refer to README.md for instructions on how to generate it.\")"
   ]
  },
  {
   "cell_type": "markdown",
   "metadata": {},
   "source": [
    "This import is to remove odd errors on `libiomp5md.dll`. If you do not have them, you can skip it"
   ]
  },
  {
   "cell_type": "code",
   "execution_count": null,
   "metadata": {
    "notebookRunGroups": {
     "groupValue": "1"
    }
   },
   "outputs": [],
   "source": [
    "os.environ['KMP_DUPLICATE_LIB_OK']='True'"
   ]
  },
  {
   "attachments": {},
   "cell_type": "markdown",
   "metadata": {},
   "source": [
    "# 2) - DB Creation"
   ]
  },
  {
   "attachments": {},
   "cell_type": "markdown",
   "metadata": {},
   "source": [
    "The DatabaseHandler class is used for managing and parsing information from a database consisting of folders and files. The class takes two arguments: db_name is the name of the database and datapath is the path of the data. The class initializes with a fetcher function which is used to fetch the database and the L1 and Raw products."
   ]
  },
  {
   "cell_type": "code",
   "execution_count": null,
   "metadata": {},
   "outputs": [],
   "source": [
    "db_name = 'THRAWS'\n",
    "DB = DatabaseHandler(db_name)"
   ]
  },
  {
   "attachments": {},
   "cell_type": "markdown",
   "metadata": {},
   "source": [
    "The class has a single_parser method, which takes in the path of an event folder and extracts metadata and other information from the files within the folder. The meta_extract function within the method is used to extract the xmlns, Satellite_Code and the polygon of the event from the Inventory_Metadata.xml file. The gain_xml function within the method is used to locate the Inventory_Metadata.xml file. Instead, the parser method is used to parse the entire L0 folder."
   ]
  },
  {
   "attachments": {},
   "cell_type": "markdown",
   "metadata": {},
   "source": [
    "The class also has a parser method which iterates over the L0_products and calls the single_parser method on each of them. The returned information is saved in a pandas dataframe called db."
   ]
  },
  {
   "cell_type": "code",
   "execution_count": null,
   "metadata": {},
   "outputs": [],
   "source": [
    "DB.parser()"
   ]
  },
  {
   "cell_type": "code",
   "execution_count": null,
   "metadata": {},
   "outputs": [],
   "source": [
    "dataframe = DB.db\n",
    "dataframe"
   ]
  },
  {
   "attachments": {},
   "cell_type": "markdown",
   "metadata": {},
   "source": [
    "# 3) - DB Saving"
   ]
  },
  {
   "attachments": {},
   "cell_type": "markdown",
   "metadata": {},
   "source": [
    "Save the current database to a csv file."
   ]
  },
  {
   "cell_type": "code",
   "execution_count": null,
   "metadata": {},
   "outputs": [],
   "source": [
    "db_path = Path(PYRAWS_HOME_PATH) / 'pyraws' / 'database' / 'test_db_toremove.csv'\n",
    "\n",
    "dataframe.to_csv(db_path, index=False)\n"
   ]
  },
  {
   "attachments": {},
   "cell_type": "markdown",
   "metadata": {},
   "source": [
    "Please note that this class depends on the existence of raw and l1c folders, if they don't exist it will return an error or a message as per the class fetcher function. Also this class uses pathlib, pandas and xml.etree.ElementTree."
   ]
  }
 ],
 "metadata": {
  "kernelspec": {
   "display_name": "pyraws",
   "language": "python",
   "name": "python3"
  },
  "language_info": {
   "codemirror_mode": {
    "name": "ipython",
    "version": 3
   },
   "file_extension": ".py",
   "mimetype": "text/x-python",
   "name": "python",
   "nbconvert_exporter": "python",
   "pygments_lexer": "ipython3",
   "version": "3.9.15"
  },
  "orig_nbformat": 4,
  "vscode": {
   "interpreter": {
    "hash": "e44427996730295f72801af1daa8325e72b53a1ddad2a1fad7e798c530cb13b3"
   }
  }
 },
 "nbformat": 4,
 "nbformat_minor": 2
}
